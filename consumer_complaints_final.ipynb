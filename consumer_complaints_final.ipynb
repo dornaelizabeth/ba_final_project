{
 "cells": [
  {
   "cell_type": "markdown",
   "id": "8726f389",
   "metadata": {},
   "source": [
    "## Introduction\n",
    "\n",
    "This notebook is the result of my final project for my Business Analytics Course.\n",
    "\n",
    "<br>_The Project_</br>\n",
    "Using consumer complaint data from the Consumer Financial Protection Bureau (CFBA), build a machine learning model to help banks identify which consumer complaints will result in a dispute.\n",
    "\n",
    "<br>_Data Source_</br>\n",
    "* Data can be downloaded here: https://www.consumerfinance.gov/data-research/consumer-complaints/\n",
    "* The data used in this notebook was filtered to only include data from the five banks generally considered to be the five largest banks in the US. Namely, Bank of America, National Association, Wells Fargo & Company, JPMorgan Chase & Co., Citibank, U.S. Bancorp.\n",
    "* The data is limited from 2012-March 2017 because the CFPB stopped collecting data for customer disputes in April 2017.\n",
    "\n",
    "<br>_Other details_</br>\n",
    "* On average, it costs the banks 100 USD to resolve, respond and close a complaint that is not disputed.\n",
    "* On the other hand, it costs banks an extra 1500 USD to resolve a complaint if it has been disputed.\n",
    "* If a complaint is picked up for \"extra diligence\" (from the machine learning model), it costs the banks an extra 90 USD to perform the additional diligence steps to resolve the complaint in a way that hopefully won't result in a dispute.\n"
   ]
  },
  {
   "cell_type": "code",
   "execution_count": 1,
   "id": "353fb9e7",
   "metadata": {},
   "outputs": [],
   "source": [
    "## import modules\n",
    "import pandas as pd\n",
    "import numpy as np\n",
    "import matplotlib.pyplot as plt\n",
    "import seaborn as sns \n",
    "from sklearn.metrics import confusion_matrix, accuracy_score, classification_report, plot_confusion_matrix, ConfusionMatrixDisplay\n",
    "from sklearn import preprocessing\n",
    "from sklearn.impute import SimpleImputer\n",
    "from sklearn.model_selection import train_test_split\n",
    "from xgboost import XGBClassifier\n",
    "from sklearn.preprocessing import StandardScaler, LabelEncoder\n",
    "from imblearn.under_sampling import RandomUnderSampler\n",
    "from sklearn import metrics"
   ]
  },
  {
   "cell_type": "markdown",
   "id": "d38a59ea",
   "metadata": {},
   "source": [
    "## Exploratory Data Analysis"
   ]
  },
  {
   "cell_type": "code",
   "execution_count": 2,
   "id": "dfac4e38",
   "metadata": {},
   "outputs": [
    {
     "data": {
      "text/html": [
       "<div>\n",
       "<style scoped>\n",
       "    .dataframe tbody tr th:only-of-type {\n",
       "        vertical-align: middle;\n",
       "    }\n",
       "\n",
       "    .dataframe tbody tr th {\n",
       "        vertical-align: top;\n",
       "    }\n",
       "\n",
       "    .dataframe thead th {\n",
       "        text-align: right;\n",
       "    }\n",
       "</style>\n",
       "<table border=\"1\" class=\"dataframe\">\n",
       "  <thead>\n",
       "    <tr style=\"text-align: right;\">\n",
       "      <th></th>\n",
       "      <th>Date received</th>\n",
       "      <th>Product</th>\n",
       "      <th>Sub-product</th>\n",
       "      <th>Issue</th>\n",
       "      <th>Sub-issue</th>\n",
       "      <th>Consumer complaint narrative</th>\n",
       "      <th>Company public response</th>\n",
       "      <th>Company</th>\n",
       "      <th>State</th>\n",
       "      <th>ZIP code</th>\n",
       "      <th>Tags</th>\n",
       "      <th>Consumer consent provided?</th>\n",
       "      <th>Submitted via</th>\n",
       "      <th>Date sent to company</th>\n",
       "      <th>Company response to consumer</th>\n",
       "      <th>Timely response?</th>\n",
       "      <th>Consumer disputed?</th>\n",
       "      <th>Complaint ID</th>\n",
       "    </tr>\n",
       "  </thead>\n",
       "  <tbody>\n",
       "    <tr>\n",
       "      <th>0</th>\n",
       "      <td>2016-10-26</td>\n",
       "      <td>Money transfers</td>\n",
       "      <td>International money transfer</td>\n",
       "      <td>Other transaction issues</td>\n",
       "      <td>NaN</td>\n",
       "      <td>To whom it concerns, I would like to file a fo...</td>\n",
       "      <td>Company has responded to the consumer and the ...</td>\n",
       "      <td>CITIBANK, N.A.</td>\n",
       "      <td>NaN</td>\n",
       "      <td>NaN</td>\n",
       "      <td>NaN</td>\n",
       "      <td>Consent provided</td>\n",
       "      <td>Web</td>\n",
       "      <td>2016-10-29</td>\n",
       "      <td>Closed with explanation</td>\n",
       "      <td>Yes</td>\n",
       "      <td>No</td>\n",
       "      <td>2180490</td>\n",
       "    </tr>\n",
       "    <tr>\n",
       "      <th>1</th>\n",
       "      <td>2015-03-27</td>\n",
       "      <td>Bank account or service</td>\n",
       "      <td>Other bank product/service</td>\n",
       "      <td>Account opening, closing, or management</td>\n",
       "      <td>NaN</td>\n",
       "      <td>My name is XXXX XXXX XXXX and huband name is X...</td>\n",
       "      <td>Company chooses not to provide a public response</td>\n",
       "      <td>CITIBANK, N.A.</td>\n",
       "      <td>PA</td>\n",
       "      <td>151XX</td>\n",
       "      <td>Older American</td>\n",
       "      <td>Consent provided</td>\n",
       "      <td>Web</td>\n",
       "      <td>2015-03-27</td>\n",
       "      <td>Closed with explanation</td>\n",
       "      <td>Yes</td>\n",
       "      <td>No</td>\n",
       "      <td>1305453</td>\n",
       "    </tr>\n",
       "    <tr>\n",
       "      <th>2</th>\n",
       "      <td>2015-04-20</td>\n",
       "      <td>Bank account or service</td>\n",
       "      <td>Other bank product/service</td>\n",
       "      <td>Making/receiving payments, sending money</td>\n",
       "      <td>NaN</td>\n",
       "      <td>XXXX 2015 : I called to make a payment on XXXX...</td>\n",
       "      <td>Company chooses not to provide a public response</td>\n",
       "      <td>U.S. BANCORP</td>\n",
       "      <td>PA</td>\n",
       "      <td>152XX</td>\n",
       "      <td>NaN</td>\n",
       "      <td>Consent provided</td>\n",
       "      <td>Web</td>\n",
       "      <td>2015-04-22</td>\n",
       "      <td>Closed with monetary relief</td>\n",
       "      <td>Yes</td>\n",
       "      <td>No</td>\n",
       "      <td>1337613</td>\n",
       "    </tr>\n",
       "    <tr>\n",
       "      <th>3</th>\n",
       "      <td>2013-04-29</td>\n",
       "      <td>Mortgage</td>\n",
       "      <td>Conventional fixed mortgage</td>\n",
       "      <td>Application, originator, mortgage broker</td>\n",
       "      <td>NaN</td>\n",
       "      <td>NaN</td>\n",
       "      <td>NaN</td>\n",
       "      <td>JPMORGAN CHASE &amp; CO.</td>\n",
       "      <td>VA</td>\n",
       "      <td>22406</td>\n",
       "      <td>Servicemember</td>\n",
       "      <td>NaN</td>\n",
       "      <td>Phone</td>\n",
       "      <td>2013-04-30</td>\n",
       "      <td>Closed with explanation</td>\n",
       "      <td>Yes</td>\n",
       "      <td>Yes</td>\n",
       "      <td>393900</td>\n",
       "    </tr>\n",
       "    <tr>\n",
       "      <th>4</th>\n",
       "      <td>2013-05-29</td>\n",
       "      <td>Mortgage</td>\n",
       "      <td>Other mortgage</td>\n",
       "      <td>Loan modification,collection,foreclosure</td>\n",
       "      <td>NaN</td>\n",
       "      <td>NaN</td>\n",
       "      <td>NaN</td>\n",
       "      <td>BANK OF AMERICA, NATIONAL ASSOCIATION</td>\n",
       "      <td>GA</td>\n",
       "      <td>30044</td>\n",
       "      <td>NaN</td>\n",
       "      <td>NaN</td>\n",
       "      <td>Referral</td>\n",
       "      <td>2013-05-31</td>\n",
       "      <td>Closed with explanation</td>\n",
       "      <td>Yes</td>\n",
       "      <td>No</td>\n",
       "      <td>418647</td>\n",
       "    </tr>\n",
       "    <tr>\n",
       "      <th>...</th>\n",
       "      <td>...</td>\n",
       "      <td>...</td>\n",
       "      <td>...</td>\n",
       "      <td>...</td>\n",
       "      <td>...</td>\n",
       "      <td>...</td>\n",
       "      <td>...</td>\n",
       "      <td>...</td>\n",
       "      <td>...</td>\n",
       "      <td>...</td>\n",
       "      <td>...</td>\n",
       "      <td>...</td>\n",
       "      <td>...</td>\n",
       "      <td>...</td>\n",
       "      <td>...</td>\n",
       "      <td>...</td>\n",
       "      <td>...</td>\n",
       "      <td>...</td>\n",
       "    </tr>\n",
       "    <tr>\n",
       "      <th>207255</th>\n",
       "      <td>2015-05-24</td>\n",
       "      <td>Debt collection</td>\n",
       "      <td>Credit card</td>\n",
       "      <td>Taking/threatening an illegal action</td>\n",
       "      <td>Sued w/o proper notification of suit</td>\n",
       "      <td>NaN</td>\n",
       "      <td>NaN</td>\n",
       "      <td>JPMORGAN CHASE &amp; CO.</td>\n",
       "      <td>FL</td>\n",
       "      <td>33133</td>\n",
       "      <td>NaN</td>\n",
       "      <td>Consent not provided</td>\n",
       "      <td>Web</td>\n",
       "      <td>2015-05-24</td>\n",
       "      <td>Closed with explanation</td>\n",
       "      <td>Yes</td>\n",
       "      <td>No</td>\n",
       "      <td>1390395</td>\n",
       "    </tr>\n",
       "    <tr>\n",
       "      <th>207256</th>\n",
       "      <td>2012-01-10</td>\n",
       "      <td>Mortgage</td>\n",
       "      <td>Conventional fixed mortgage</td>\n",
       "      <td>Loan modification,collection,foreclosure</td>\n",
       "      <td>NaN</td>\n",
       "      <td>NaN</td>\n",
       "      <td>NaN</td>\n",
       "      <td>JPMORGAN CHASE &amp; CO.</td>\n",
       "      <td>NY</td>\n",
       "      <td>10312</td>\n",
       "      <td>NaN</td>\n",
       "      <td>NaN</td>\n",
       "      <td>Referral</td>\n",
       "      <td>2012-01-11</td>\n",
       "      <td>Closed without relief</td>\n",
       "      <td>Yes</td>\n",
       "      <td>Yes</td>\n",
       "      <td>12192</td>\n",
       "    </tr>\n",
       "    <tr>\n",
       "      <th>207257</th>\n",
       "      <td>2012-07-17</td>\n",
       "      <td>Student loan</td>\n",
       "      <td>Non-federal student loan</td>\n",
       "      <td>Repaying your loan</td>\n",
       "      <td>NaN</td>\n",
       "      <td>NaN</td>\n",
       "      <td>NaN</td>\n",
       "      <td>BANK OF AMERICA, NATIONAL ASSOCIATION</td>\n",
       "      <td>NH</td>\n",
       "      <td>032XX</td>\n",
       "      <td>NaN</td>\n",
       "      <td>NaN</td>\n",
       "      <td>Web</td>\n",
       "      <td>2012-07-18</td>\n",
       "      <td>Closed with explanation</td>\n",
       "      <td>Yes</td>\n",
       "      <td>No</td>\n",
       "      <td>118351</td>\n",
       "    </tr>\n",
       "    <tr>\n",
       "      <th>207258</th>\n",
       "      <td>2016-09-29</td>\n",
       "      <td>Bank account or service</td>\n",
       "      <td>Checking account</td>\n",
       "      <td>Account opening, closing, or management</td>\n",
       "      <td>NaN</td>\n",
       "      <td>Near the end of XXXX 2016 I opened a Citigold ...</td>\n",
       "      <td>Company has responded to the consumer and the ...</td>\n",
       "      <td>CITIBANK, N.A.</td>\n",
       "      <td>CA</td>\n",
       "      <td>900XX</td>\n",
       "      <td>NaN</td>\n",
       "      <td>Consent provided</td>\n",
       "      <td>Web</td>\n",
       "      <td>2016-09-29</td>\n",
       "      <td>Closed with non-monetary relief</td>\n",
       "      <td>Yes</td>\n",
       "      <td>No</td>\n",
       "      <td>2138969</td>\n",
       "    </tr>\n",
       "    <tr>\n",
       "      <th>207259</th>\n",
       "      <td>2015-04-29</td>\n",
       "      <td>Mortgage</td>\n",
       "      <td>Conventional fixed mortgage</td>\n",
       "      <td>Loan modification,collection,foreclosure</td>\n",
       "      <td>NaN</td>\n",
       "      <td>My father died in XX/XX/XXXX. Left me his only...</td>\n",
       "      <td>NaN</td>\n",
       "      <td>CITIBANK, N.A.</td>\n",
       "      <td>OK</td>\n",
       "      <td>740XX</td>\n",
       "      <td>NaN</td>\n",
       "      <td>Consent provided</td>\n",
       "      <td>Web</td>\n",
       "      <td>2015-04-29</td>\n",
       "      <td>Closed with explanation</td>\n",
       "      <td>Yes</td>\n",
       "      <td>No</td>\n",
       "      <td>1352738</td>\n",
       "    </tr>\n",
       "  </tbody>\n",
       "</table>\n",
       "<p>207260 rows × 18 columns</p>\n",
       "</div>"
      ],
      "text/plain": [
       "       Date received                  Product                   Sub-product  \\\n",
       "0         2016-10-26          Money transfers  International money transfer   \n",
       "1         2015-03-27  Bank account or service    Other bank product/service   \n",
       "2         2015-04-20  Bank account or service    Other bank product/service   \n",
       "3         2013-04-29                 Mortgage   Conventional fixed mortgage   \n",
       "4         2013-05-29                 Mortgage                Other mortgage   \n",
       "...              ...                      ...                           ...   \n",
       "207255    2015-05-24          Debt collection                   Credit card   \n",
       "207256    2012-01-10                 Mortgage   Conventional fixed mortgage   \n",
       "207257    2012-07-17             Student loan      Non-federal student loan   \n",
       "207258    2016-09-29  Bank account or service              Checking account   \n",
       "207259    2015-04-29                 Mortgage   Conventional fixed mortgage   \n",
       "\n",
       "                                           Issue  \\\n",
       "0                       Other transaction issues   \n",
       "1        Account opening, closing, or management   \n",
       "2       Making/receiving payments, sending money   \n",
       "3       Application, originator, mortgage broker   \n",
       "4       Loan modification,collection,foreclosure   \n",
       "...                                          ...   \n",
       "207255      Taking/threatening an illegal action   \n",
       "207256  Loan modification,collection,foreclosure   \n",
       "207257                        Repaying your loan   \n",
       "207258   Account opening, closing, or management   \n",
       "207259  Loan modification,collection,foreclosure   \n",
       "\n",
       "                                   Sub-issue  \\\n",
       "0                                        NaN   \n",
       "1                                        NaN   \n",
       "2                                        NaN   \n",
       "3                                        NaN   \n",
       "4                                        NaN   \n",
       "...                                      ...   \n",
       "207255  Sued w/o proper notification of suit   \n",
       "207256                                   NaN   \n",
       "207257                                   NaN   \n",
       "207258                                   NaN   \n",
       "207259                                   NaN   \n",
       "\n",
       "                             Consumer complaint narrative  \\\n",
       "0       To whom it concerns, I would like to file a fo...   \n",
       "1       My name is XXXX XXXX XXXX and huband name is X...   \n",
       "2       XXXX 2015 : I called to make a payment on XXXX...   \n",
       "3                                                     NaN   \n",
       "4                                                     NaN   \n",
       "...                                                   ...   \n",
       "207255                                                NaN   \n",
       "207256                                                NaN   \n",
       "207257                                                NaN   \n",
       "207258  Near the end of XXXX 2016 I opened a Citigold ...   \n",
       "207259  My father died in XX/XX/XXXX. Left me his only...   \n",
       "\n",
       "                                  Company public response  \\\n",
       "0       Company has responded to the consumer and the ...   \n",
       "1        Company chooses not to provide a public response   \n",
       "2        Company chooses not to provide a public response   \n",
       "3                                                     NaN   \n",
       "4                                                     NaN   \n",
       "...                                                   ...   \n",
       "207255                                                NaN   \n",
       "207256                                                NaN   \n",
       "207257                                                NaN   \n",
       "207258  Company has responded to the consumer and the ...   \n",
       "207259                                                NaN   \n",
       "\n",
       "                                      Company State ZIP code            Tags  \\\n",
       "0                              CITIBANK, N.A.   NaN      NaN             NaN   \n",
       "1                              CITIBANK, N.A.    PA    151XX  Older American   \n",
       "2                                U.S. BANCORP    PA    152XX             NaN   \n",
       "3                        JPMORGAN CHASE & CO.    VA    22406   Servicemember   \n",
       "4       BANK OF AMERICA, NATIONAL ASSOCIATION    GA    30044             NaN   \n",
       "...                                       ...   ...      ...             ...   \n",
       "207255                   JPMORGAN CHASE & CO.    FL    33133             NaN   \n",
       "207256                   JPMORGAN CHASE & CO.    NY    10312             NaN   \n",
       "207257  BANK OF AMERICA, NATIONAL ASSOCIATION    NH    032XX             NaN   \n",
       "207258                         CITIBANK, N.A.    CA    900XX             NaN   \n",
       "207259                         CITIBANK, N.A.    OK    740XX             NaN   \n",
       "\n",
       "       Consumer consent provided? Submitted via Date sent to company  \\\n",
       "0                Consent provided           Web           2016-10-29   \n",
       "1                Consent provided           Web           2015-03-27   \n",
       "2                Consent provided           Web           2015-04-22   \n",
       "3                             NaN         Phone           2013-04-30   \n",
       "4                             NaN      Referral           2013-05-31   \n",
       "...                           ...           ...                  ...   \n",
       "207255       Consent not provided           Web           2015-05-24   \n",
       "207256                        NaN      Referral           2012-01-11   \n",
       "207257                        NaN           Web           2012-07-18   \n",
       "207258           Consent provided           Web           2016-09-29   \n",
       "207259           Consent provided           Web           2015-04-29   \n",
       "\n",
       "           Company response to consumer Timely response? Consumer disputed?  \\\n",
       "0               Closed with explanation              Yes                 No   \n",
       "1               Closed with explanation              Yes                 No   \n",
       "2           Closed with monetary relief              Yes                 No   \n",
       "3               Closed with explanation              Yes                Yes   \n",
       "4               Closed with explanation              Yes                 No   \n",
       "...                                 ...              ...                ...   \n",
       "207255          Closed with explanation              Yes                 No   \n",
       "207256            Closed without relief              Yes                Yes   \n",
       "207257          Closed with explanation              Yes                 No   \n",
       "207258  Closed with non-monetary relief              Yes                 No   \n",
       "207259          Closed with explanation              Yes                 No   \n",
       "\n",
       "        Complaint ID  \n",
       "0            2180490  \n",
       "1            1305453  \n",
       "2            1337613  \n",
       "3             393900  \n",
       "4             418647  \n",
       "...              ...  \n",
       "207255       1390395  \n",
       "207256         12192  \n",
       "207257        118351  \n",
       "207258       2138969  \n",
       "207259       1352738  \n",
       "\n",
       "[207260 rows x 18 columns]"
      ]
     },
     "execution_count": 2,
     "metadata": {},
     "output_type": "execute_result"
    }
   ],
   "source": [
    "# import data\n",
    "df = pd.DataFrame(pd.read_csv('complaints_25Nov21.csv'))\n",
    "df"
   ]
  },
  {
   "cell_type": "code",
   "execution_count": 3,
   "id": "4bac479b",
   "metadata": {},
   "outputs": [
    {
     "data": {
      "text/plain": [
       "No     162357\n",
       "Yes     44903\n",
       "Name: Consumer disputed?, dtype: int64"
      ]
     },
     "execution_count": 3,
     "metadata": {},
     "output_type": "execute_result"
    }
   ],
   "source": [
    "# Find the responses we have for the target variable\n",
    "df['Consumer disputed?'].value_counts()"
   ]
  },
  {
   "cell_type": "code",
   "execution_count": 4,
   "id": "e7bb794f",
   "metadata": {},
   "outputs": [
    {
     "data": {
      "text/plain": [
       "Date received                        0\n",
       "Product                              0\n",
       "Sub-product                      43015\n",
       "Issue                                0\n",
       "Sub-issue                       196913\n",
       "Consumer complaint narrative    177869\n",
       "Company public response         148802\n",
       "Company                              0\n",
       "State                             2194\n",
       "ZIP code                          9286\n",
       "Tags                            178995\n",
       "Consumer consent provided?      155947\n",
       "Submitted via                        0\n",
       "Date sent to company                 0\n",
       "Company response to consumer         0\n",
       "Timely response?                     0\n",
       "Consumer disputed?                   0\n",
       "Complaint ID                         0\n",
       "dtype: int64"
      ]
     },
     "execution_count": 4,
     "metadata": {},
     "output_type": "execute_result"
    }
   ],
   "source": [
    "# Null-values?\n",
    "df.isnull().sum()"
   ]
  },
  {
   "cell_type": "markdown",
   "id": "1b3cc936",
   "metadata": {},
   "source": [
    "**Initial thoughts**\n",
    "With 207260 rows of data, we have a huge dataset. While this is very exciting I also need to be very selective with how I preprocess the data, which features I select or feature engineer into my model given that I'm just working with my personal computer.\n",
    "\n",
    "Columns:\n",
    "* Date received - drop\n",
    "* Products - keep\n",
    "* Sub-product - unsure\n",
    "* Issue - drop (issues are related to products, let's avoid redundancy)\n",
    "* Sub-issue - drop (high cardinality, the big picture is likely captured by Products)\n",
    "* Consumer complaint narrative - keep for FE (given the size of our dataset, closely analyzing the narrative will be computationally very costly but let's find another way to use this data)\n",
    "* Company public response - keep\n",
    "* Company - drop (the assignment specified building a model for the five biggest banks, not for any individual bank; the dataset includes only complaints from these five banks)\n",
    "* State - keep for FE (Again, this this column of categorial data has high cardinality but includes nonetheless probably useful data)\n",
    "* ZIP code - drop\n",
    "* Tags - keep for FE\n",
    "* Consumer consent provided? - drop\n",
    "* Submitted via - keep for FE\n",
    "* Data sent to company - drop\n",
    "* Company response to consumer - keep for FE\n",
    "* Timely response? - drop\n",
    "* Consumer disputed? - Target variable\n",
    "* Complaint ID - drop\n"
   ]
  },
  {
   "cell_type": "code",
   "execution_count": 5,
   "id": "4afed5ce",
   "metadata": {},
   "outputs": [
    {
     "name": "stderr",
     "output_type": "stream",
     "text": [
      "/global/homes/d/dornamu/.conda/envs/myenv/lib/python3.8/site-packages/seaborn/_decorators.py:36: FutureWarning: Pass the following variable as a keyword arg: x. From version 0.12, the only valid positional argument will be `data`, and passing other arguments without an explicit keyword will result in an error or misinterpretation.\n",
      "  warnings.warn(\n"
     ]
    },
    {
     "data": {
      "image/png": "[encoded data removed]",
      "text/plain": [
       "<Figure size 1296x576 with 2 Axes>"
      ]
     },
     "metadata": {
      "needs_background": "light"
     },
     "output_type": "display_data"
    }
   ],
   "source": [
    "# Product and Complaint Disputed\n",
    "f,ax=plt.subplots(1,2,figsize=(18,8))\n",
    "df['Product'].value_counts().plot.bar(ax=ax[0]) \n",
    "ax[0].set_title('Product Complaints')\n",
    "ax[0].set_ylabel('count')\n",
    "sns.countplot('Product',hue='Consumer disputed?',data=df,ax=ax[1])\n",
    "\n",
    "ax[1].set_title('Product Dispute: Yes vs No')\n",
    "plt.xticks(rotation=45)\n",
    "plt.show()"
   ]
  },
  {
   "cell_type": "code",
   "execution_count": 6,
   "id": "7eb7f7fd",
   "metadata": {},
   "outputs": [],
   "source": [
    "# function to see the how frequently each product gets dipsuted\n",
    "def get_percent(prod):\n",
    "    prod_yes = len(df.loc[(df['Product']==prod) & (df['Consumer disputed?'] == 'Yes')])\n",
    "    return float(prod_yes/len(df.loc[df['Product']==prod]))"
   ]
  },
  {
   "cell_type": "code",
   "execution_count": 7,
   "id": "76d8a32f",
   "metadata": {},
   "outputs": [
    {
     "data": {
      "text/plain": [
       "[('Payday loan', 0.1566265060240964),\n",
       " ('Credit reporting', 0.16734143049932523),\n",
       " ('Prepaid card', 0.1700787401574803),\n",
       " ('Debt collection', 0.18916168426408853),\n",
       " ('Bank account or service', 0.19233529174328384),\n",
       " ('Consumer Loan', 0.21405228758169934),\n",
       " ('Credit card', 0.21689459837406083),\n",
       " ('Student loan', 0.22365666434054432),\n",
       " ('Mortgage', 0.229720692368214),\n",
       " ('Other financial service', 0.23706896551724138),\n",
       " ('Money transfers', 0.24165707710011508)]"
      ]
     },
     "execution_count": 7,
     "metadata": {},
     "output_type": "execute_result"
    }
   ],
   "source": [
    "product_key = df['Product'].unique().tolist()\n",
    "values = [get_percent(prod) for prod in product_key]\n",
    "product_dict = dict(zip(product_key, values))\n",
    "    \n",
    "sorted(product_dict.items(), key=lambda x: x[1], reverse=False)"
   ]
  },
  {
   "cell_type": "markdown",
   "id": "1e699976",
   "metadata": {},
   "source": [
    "When I was experimenting with developing a new feature using the 'Product' data I found that encoding by the % of the complaints that were disputed by product category performed better than an ordinal ranking of this frequency. Consequently, I included the former in my model."
   ]
  },
  {
   "cell_type": "code",
   "execution_count": 8,
   "id": "af4f5df4",
   "metadata": {},
   "outputs": [
    {
     "data": {
      "text/plain": [
       "Text(0.5, 1.0, 'Method of Submission and Disputes')"
      ]
     },
     "execution_count": 8,
     "metadata": {},
     "output_type": "execute_result"
    },
    {
     "data": {
      "image/png": "[encoded data removed]",
      "text/plain": [
       "<Figure size 432x288 with 1 Axes>"
      ]
     },
     "metadata": {
      "needs_background": "light"
     },
     "output_type": "display_data"
    }
   ],
   "source": [
    "# Submitted via\n",
    "ax = sns.countplot(x='Submitted via', data=df, hue='Consumer disputed?')\n",
    "#plt.title('Cut vs color');\n",
    "plt.xticks(rotation=45)\n",
    "ax.set_title('Method of Submission and Disputes')"
   ]
  },
  {
   "cell_type": "code",
   "execution_count": 9,
   "id": "161cca7b",
   "metadata": {},
   "outputs": [],
   "source": [
    "# function to see the distrubution how the dipsuted complaints were submitted\n",
    "def get_percent_s(prod):\n",
    "    prod_yes = len(df.loc[(df['Submitted via']==prod) & (df['Consumer disputed?'] == 'Yes')])\n",
    "    return float(prod_yes/len(df.loc[df['Submitted via']==prod]))"
   ]
  },
  {
   "cell_type": "code",
   "execution_count": 11,
   "id": "53b69e27",
   "metadata": {},
   "outputs": [
    {
     "data": {
      "text/plain": [
       "[('Referral', 0.18330031230061453),\n",
       " ('Postal mail', 0.1929428124456805),\n",
       " ('Phone', 0.19332572732458642),\n",
       " ('Fax', 0.23226900254309127),\n",
       " ('Web', 0.23930962524997826),\n",
       " ('Email', 0.27350427350427353)]"
      ]
     },
     "execution_count": 11,
     "metadata": {},
     "output_type": "execute_result"
    }
   ],
   "source": [
    "submission_key = df['Submitted via'].unique().tolist()\n",
    "values = [get_percent_s(s) for s in submission_key]\n",
    "submission_dict = dict(zip(submission_key, values))\n",
    "    \n",
    "sorted(submission_dict.items(), key=lambda x: x[1], reverse=False)"
   ]
  },
  {
   "cell_type": "markdown",
   "id": "1190f76b",
   "metadata": {},
   "source": [
    "Again, while modeling I found that encoding the 'Submitted via' data by the % of the complaints that were disputed by submission method performed better than an ordinal ranking of the frequency."
   ]
  },
  {
   "cell_type": "code",
   "execution_count": 12,
   "id": "3541d27e",
   "metadata": {},
   "outputs": [
    {
     "data": {
      "text/plain": [
       "58"
      ]
     },
     "execution_count": 12,
     "metadata": {},
     "output_type": "execute_result"
    }
   ],
   "source": [
    "# Sub issue\n",
    "len(set(df['Sub-issue'].values.tolist()))"
   ]
  },
  {
   "cell_type": "markdown",
   "id": "6f813ea5",
   "metadata": {},
   "source": [
    "Very high cardinality - dropping this feature."
   ]
  },
  {
   "cell_type": "code",
   "execution_count": 13,
   "id": "ff3a6830",
   "metadata": {},
   "outputs": [
    {
     "data": {
      "text/plain": [
       "[nan, 'Older American, Servicemember', 'Servicemember', 'Older American']"
      ]
     },
     "execution_count": 13,
     "metadata": {},
     "output_type": "execute_result"
    }
   ],
   "source": [
    "# Tags\n",
    "tags = list(set(df['Tags'].values.tolist()))\n",
    "tags"
   ]
  },
  {
   "cell_type": "code",
   "execution_count": 14,
   "id": "8814e482",
   "metadata": {},
   "outputs": [],
   "source": [
    "# Consumer Complaint Narrative\n",
    "ccn = df['Consumer complaint narrative'].values.tolist()"
   ]
  },
  {
   "cell_type": "code",
   "execution_count": 15,
   "id": "6dd1fe1e",
   "metadata": {},
   "outputs": [
    {
     "data": {
      "text/plain": [
       "0.23939301146609507"
      ]
     },
     "execution_count": 15,
     "metadata": {},
     "output_type": "execute_result"
    }
   ],
   "source": [
    "# what percentage of ccns disputed?\n",
    "ccn_yes = len(df.loc[(df['Consumer complaint narrative'].notnull()) & (df['Consumer disputed?'] == 'Yes')])\n",
    "ccn_yes/len(df.loc[(df['Consumer complaint narrative'].notnull())])"
   ]
  },
  {
   "cell_type": "markdown",
   "id": "cfd58198",
   "metadata": {},
   "source": [
    "The majority of the complaints were not disputed. To adequately train the model, we must try to balance the classes."
   ]
  },
  {
   "cell_type": "code",
   "execution_count": 16,
   "id": "ba02b803",
   "metadata": {},
   "outputs": [],
   "source": [
    "# function to get word count complaint\n",
    "def get_wc(complaint):\n",
    "    print(complaint)\n",
    "    return len(complaint)"
   ]
  },
  {
   "cell_type": "code",
   "execution_count": 17,
   "id": "ea1124cf",
   "metadata": {},
   "outputs": [],
   "source": [
    "word_count = df['Consumer complaint narrative'].str.split().str.len()\n",
    "df['CCN wordcount'] = word_count"
   ]
  },
  {
   "cell_type": "code",
   "execution_count": 18,
   "id": "43818594",
   "metadata": {},
   "outputs": [
    {
     "data": {
      "image/png": "[encoded data removed]",
      "text/plain": [
       "<Figure size 576x432 with 1 Axes>"
      ]
     },
     "metadata": {
      "needs_background": "light"
     },
     "output_type": "display_data"
    }
   ],
   "source": [
    "# Create the boxplots\n",
    "f, ax = plt.subplots(figsize=(8, 6))\n",
    "fig = sns.boxplot(y='CCN wordcount', x='Consumer disputed?', data=df);\n",
    "# To keep in mind, when input data contains NaN, it will automaically be filled with 0"
   ]
  },
  {
   "cell_type": "code",
   "execution_count": 19,
   "id": "93661f51",
   "metadata": {},
   "outputs": [
    {
     "data": {
      "image/png": "[encoded data removed]",
      "text/plain": [
       "<Figure size 576x432 with 1 Axes>"
      ]
     },
     "metadata": {
      "needs_background": "light"
     },
     "output_type": "display_data"
    }
   ],
   "source": [
    "# Compare with previous plot, this time don't fill in 0s for NaN\n",
    "f, ax = plt.subplots(figsize=(8, 6))\n",
    "fig = sns.boxplot(y='CCN wordcount', x='Consumer disputed?', data=df.dropna());"
   ]
  },
  {
   "cell_type": "markdown",
   "id": "039b1d2f",
   "metadata": {},
   "source": [
    "Generally, complaints with higher word counts are less likely to get disputed. \n",
    "Earlier I considered grouping the word count but now I'm thinking that our model won't have alot of numerical data and that would be difficult for humans to choose a good cut-off for groups - leave 'CNN' Wordcount as its own feature but normalize it to improve performance in the model."
   ]
  },
  {
   "cell_type": "code",
   "execution_count": 20,
   "id": "50f3518a",
   "metadata": {},
   "outputs": [
    {
     "data": {
      "text/plain": [
       "0.21392217659711166"
      ]
     },
     "execution_count": 20,
     "metadata": {},
     "output_type": "execute_result"
    }
   ],
   "source": [
    "# what percentage of older american and service member disputed?\n",
    "tag_yes = len(df.loc[(df['Tags'].isnull()) & (df['Consumer disputed?'] == 'Yes')])\n",
    "tag_yes/len(df.loc[(df['Tags'].isnull())])"
   ]
  },
  {
   "cell_type": "markdown",
   "id": "13953e8e",
   "metadata": {},
   "source": [
    "That's also not unsignficant - it would be simple enough to create a column to flag whether or not the customer was tagged as an older american or a service member."
   ]
  },
  {
   "cell_type": "markdown",
   "id": "f7c25afc",
   "metadata": {},
   "source": [
    "## Feature Engineering\n",
    "\n",
    "In the previous section, I noted a couple of features I wanted to develop. Another feature that improved the performance of my model was one that takes into account the relationship between whether or not the banks provided some relief in response to the complaint and the ranking of the product in terms of disputed complaints. "
   ]
  },
  {
   "cell_type": "code",
   "execution_count": 21,
   "id": "8198f9e9",
   "metadata": {},
   "outputs": [],
   "source": [
    "def get_state_sensitivity(state):\n",
    "    # states with high dispute rates\n",
    "    vs = ['MP', 'PW', 'AS']\n",
    "    # states with modeate dispute rates\n",
    "    ms = ['GU','HI','AA','FM','MS','NE','OR','AK','DE']\n",
    "    # states with low dispute rates\n",
    "    ls = ['AP','NM','MT','SD','MH','GA','NH','WV','KS','ID','LA','WY']\n",
    "    if state in vs:\n",
    "        return 0.5\n",
    "    elif state in ms:\n",
    "        return 0.24\n",
    "    elif state in ls:\n",
    "        return 0.19\n",
    "    else:\n",
    "        return 0.22"
   ]
  },
  {
   "cell_type": "code",
   "execution_count": 22,
   "id": "8d0a58fb",
   "metadata": {},
   "outputs": [],
   "source": [
    "# function to incdicate if response is without relief\n",
    "def is_wr(response):\n",
    "    if response == 'Closed without relief' or response == 'Closed with non-monetary relief':\n",
    "        return 2\n",
    "    else:\n",
    "        return 0"
   ]
  },
  {
   "cell_type": "code",
   "execution_count": 23,
   "id": "297d16dc",
   "metadata": {},
   "outputs": [],
   "source": [
    "# Feature engineering: test normalizing the word count\n",
    "def new_features(df):\n",
    "    \n",
    "    # Flag whether or not there were tags (indicates that the customer is a service member or an older american, or both)\n",
    "    df['Is SM or OA'] = np.where(df['Tags'].isnull(),0,1)\n",
    "    \n",
    "    # Get wordcount of customer complaint\n",
    "    word_count = df['Consumer complaint narrative'].str.split().str.len()\n",
    "    df['CCN wordcount'] = word_count\n",
    "    # Impute missing values with the mean()\n",
    "    df['CCN wordcount'].fillna(value=df['CCN wordcount'].mean(), inplace=True)  \n",
    "    # Apply log transformation on wordcount to noramlize the distribution\n",
    "    df['log_transform_CNN_wc'] = np.log10(df['CCN wordcount'])\n",
    "    \n",
    "    # Get frequency encoding for 'State'\n",
    "    df['State'].fillna(value=df['State'].mode(), inplace=True)\n",
    "    df['State Sensitive'] = df['State'].map(get_state_sensitivity)\n",
    "    \n",
    "    # New feature: complaint relief * product ordinality\n",
    "    # Define a dictionary for the ordinality of disputed products\n",
    "    enc_dict_p = {'Payday loan':1,'Credit reporting':2,'Prepaid card':3,'Debt collection':4,'Bank account or service':5,\\\n",
    "               'Consumer Loan':6,'Credit card':7,'Student loan':8, 'Mortgage':9,'Other financial service':10, 'Money transfers':11}\n",
    "    # Create the mapped values in a new column\n",
    "    df['Product Ordinal'] = df['Product'].map(enc_dict_p)\n",
    "    df['Non Relief'] = df['Company response to consumer'].map(is_wr)\n",
    "    df['Product-Non Relief'] = df['Product Ordinal'] * df['Non Relief']\n",
    "    \n",
    "    # Drop columns\n",
    "    df.drop(columns=['Tags', 'Consumer complaint narrative', 'CCN wordcount','State', 'Non Relief', 'Product Ordinal'], inplace = True)\n",
    "    \n",
    "    return df"
   ]
  },
  {
   "cell_type": "code",
   "execution_count": 24,
   "id": "8a2edc11",
   "metadata": {},
   "outputs": [],
   "source": [
    "# Function to encode the data\n",
    "def encode(df):\n",
    "    # Define a dictionary for encoding the frequency of disputed products\n",
    "    enc_dict_p_freq = {'Payday loan':0.157,'Credit reporting':0.167,'Prepaid card':0.170,'Debt collection':0.189,'Bank account or service':0.192,\\\n",
    "               'Consumer Loan':0.214,'Credit card':0.217,'Student loan':0.224, 'Mortgage':0.230,'Other financial service':0.237, 'Money transfers'\\\n",
    "               :0.242}\n",
    "    # Create the mapped values in a new column\n",
    "    df['Product Frequecy'] = df['Product'].map(enc_dict_p_freq)\n",
    "    \n",
    "    # Define a dictionary for encoding the freuqnecy of how disputed complaints were submitted\n",
    "    enc_dict_s = {'Referral':0.183,'Postal mail':0.193,'Phone':0.193,'Fax':0.232,'Web':0.239,'Email':0.274}\n",
    "    # Create the mapped values in a new column\n",
    "    df['Method Frequency'] = df['Submitted via'].map(enc_dict_s)\n",
    "    \n",
    "    # Label encode the target variable\n",
    "    le = preprocessing.LabelEncoder()\n",
    "    df['Consumer disputed?'] = le.fit_transform(df['Consumer disputed?'])\n",
    "    \n",
    "    # drop columns\n",
    "    df.drop(columns=['Product', 'Submitted via'],inplace = True)\n",
    "    \n",
    "    # Encode the remaining categorical variables\n",
    "    df = pd.get_dummies(df)\n",
    "    \n",
    "    return df"
   ]
  },
  {
   "cell_type": "code",
   "execution_count": 25,
   "id": "ed1920f4",
   "metadata": {},
   "outputs": [],
   "source": [
    "def clean(df):\n",
    "    ## Fill-in NaN in target variable\n",
    "    df['Consumer disputed?'].fillna('No', inplace=True)\n",
    "    df['Consumer disputed?'] = df['Consumer disputed?'].astype('category')\n",
    "    \n",
    "    # drop cols that won't be used\n",
    "    cols_drop = ['Date received','Company public response','Company','Consumer consent provided?', \\\n",
    "                 'Date sent to company','Complaint ID','ZIP code','Sub-issue', 'Sub-product', 'Issue']\n",
    "    df.drop(columns=cols_drop, inplace = True)\n",
    "    return df"
   ]
  },
  {
   "cell_type": "code",
   "execution_count": 26,
   "id": "6d2f04b7",
   "metadata": {},
   "outputs": [
    {
     "data": {
      "text/html": [
       "<div>\n",
       "<style scoped>\n",
       "    .dataframe tbody tr th:only-of-type {\n",
       "        vertical-align: middle;\n",
       "    }\n",
       "\n",
       "    .dataframe tbody tr th {\n",
       "        vertical-align: top;\n",
       "    }\n",
       "\n",
       "    .dataframe thead th {\n",
       "        text-align: right;\n",
       "    }\n",
       "</style>\n",
       "<table border=\"1\" class=\"dataframe\">\n",
       "  <thead>\n",
       "    <tr style=\"text-align: right;\">\n",
       "      <th></th>\n",
       "      <th>Consumer disputed?</th>\n",
       "      <th>Is SM or OA</th>\n",
       "      <th>log_transform_CNN_wc</th>\n",
       "      <th>State Sensitive</th>\n",
       "      <th>Product-Non Relief</th>\n",
       "      <th>Product Frequecy</th>\n",
       "      <th>Method Frequency</th>\n",
       "      <th>Company response to consumer_Closed</th>\n",
       "      <th>Company response to consumer_Closed with explanation</th>\n",
       "      <th>Company response to consumer_Closed with monetary relief</th>\n",
       "      <th>Company response to consumer_Closed with non-monetary relief</th>\n",
       "      <th>Company response to consumer_Closed with relief</th>\n",
       "      <th>Company response to consumer_Closed without relief</th>\n",
       "      <th>Company response to consumer_Untimely response</th>\n",
       "      <th>Timely response?_No</th>\n",
       "      <th>Timely response?_Yes</th>\n",
       "    </tr>\n",
       "  </thead>\n",
       "  <tbody>\n",
       "    <tr>\n",
       "      <th>0</th>\n",
       "      <td>0</td>\n",
       "      <td>0</td>\n",
       "      <td>2.394452</td>\n",
       "      <td>0.22</td>\n",
       "      <td>0</td>\n",
       "      <td>0.242</td>\n",
       "      <td>0.239</td>\n",
       "      <td>0</td>\n",
       "      <td>1</td>\n",
       "      <td>0</td>\n",
       "      <td>0</td>\n",
       "      <td>0</td>\n",
       "      <td>0</td>\n",
       "      <td>0</td>\n",
       "      <td>0</td>\n",
       "      <td>1</td>\n",
       "    </tr>\n",
       "    <tr>\n",
       "      <th>1</th>\n",
       "      <td>0</td>\n",
       "      <td>1</td>\n",
       "      <td>2.568202</td>\n",
       "      <td>0.22</td>\n",
       "      <td>0</td>\n",
       "      <td>0.192</td>\n",
       "      <td>0.239</td>\n",
       "      <td>0</td>\n",
       "      <td>1</td>\n",
       "      <td>0</td>\n",
       "      <td>0</td>\n",
       "      <td>0</td>\n",
       "      <td>0</td>\n",
       "      <td>0</td>\n",
       "      <td>0</td>\n",
       "      <td>1</td>\n",
       "    </tr>\n",
       "    <tr>\n",
       "      <th>2</th>\n",
       "      <td>0</td>\n",
       "      <td>0</td>\n",
       "      <td>2.549003</td>\n",
       "      <td>0.22</td>\n",
       "      <td>0</td>\n",
       "      <td>0.192</td>\n",
       "      <td>0.239</td>\n",
       "      <td>0</td>\n",
       "      <td>0</td>\n",
       "      <td>1</td>\n",
       "      <td>0</td>\n",
       "      <td>0</td>\n",
       "      <td>0</td>\n",
       "      <td>0</td>\n",
       "      <td>0</td>\n",
       "      <td>1</td>\n",
       "    </tr>\n",
       "    <tr>\n",
       "      <th>3</th>\n",
       "      <td>1</td>\n",
       "      <td>1</td>\n",
       "      <td>2.377722</td>\n",
       "      <td>0.22</td>\n",
       "      <td>0</td>\n",
       "      <td>0.230</td>\n",
       "      <td>0.193</td>\n",
       "      <td>0</td>\n",
       "      <td>1</td>\n",
       "      <td>0</td>\n",
       "      <td>0</td>\n",
       "      <td>0</td>\n",
       "      <td>0</td>\n",
       "      <td>0</td>\n",
       "      <td>0</td>\n",
       "      <td>1</td>\n",
       "    </tr>\n",
       "    <tr>\n",
       "      <th>4</th>\n",
       "      <td>0</td>\n",
       "      <td>0</td>\n",
       "      <td>2.377722</td>\n",
       "      <td>0.19</td>\n",
       "      <td>0</td>\n",
       "      <td>0.230</td>\n",
       "      <td>0.183</td>\n",
       "      <td>0</td>\n",
       "      <td>1</td>\n",
       "      <td>0</td>\n",
       "      <td>0</td>\n",
       "      <td>0</td>\n",
       "      <td>0</td>\n",
       "      <td>0</td>\n",
       "      <td>0</td>\n",
       "      <td>1</td>\n",
       "    </tr>\n",
       "    <tr>\n",
       "      <th>...</th>\n",
       "      <td>...</td>\n",
       "      <td>...</td>\n",
       "      <td>...</td>\n",
       "      <td>...</td>\n",
       "      <td>...</td>\n",
       "      <td>...</td>\n",
       "      <td>...</td>\n",
       "      <td>...</td>\n",
       "      <td>...</td>\n",
       "      <td>...</td>\n",
       "      <td>...</td>\n",
       "      <td>...</td>\n",
       "      <td>...</td>\n",
       "      <td>...</td>\n",
       "      <td>...</td>\n",
       "      <td>...</td>\n",
       "    </tr>\n",
       "    <tr>\n",
       "      <th>207255</th>\n",
       "      <td>0</td>\n",
       "      <td>0</td>\n",
       "      <td>2.377722</td>\n",
       "      <td>0.22</td>\n",
       "      <td>0</td>\n",
       "      <td>0.189</td>\n",
       "      <td>0.239</td>\n",
       "      <td>0</td>\n",
       "      <td>1</td>\n",
       "      <td>0</td>\n",
       "      <td>0</td>\n",
       "      <td>0</td>\n",
       "      <td>0</td>\n",
       "      <td>0</td>\n",
       "      <td>0</td>\n",
       "      <td>1</td>\n",
       "    </tr>\n",
       "    <tr>\n",
       "      <th>207256</th>\n",
       "      <td>1</td>\n",
       "      <td>0</td>\n",
       "      <td>2.377722</td>\n",
       "      <td>0.22</td>\n",
       "      <td>18</td>\n",
       "      <td>0.230</td>\n",
       "      <td>0.183</td>\n",
       "      <td>0</td>\n",
       "      <td>0</td>\n",
       "      <td>0</td>\n",
       "      <td>0</td>\n",
       "      <td>0</td>\n",
       "      <td>1</td>\n",
       "      <td>0</td>\n",
       "      <td>0</td>\n",
       "      <td>1</td>\n",
       "    </tr>\n",
       "    <tr>\n",
       "      <th>207257</th>\n",
       "      <td>0</td>\n",
       "      <td>0</td>\n",
       "      <td>2.377722</td>\n",
       "      <td>0.19</td>\n",
       "      <td>0</td>\n",
       "      <td>0.224</td>\n",
       "      <td>0.239</td>\n",
       "      <td>0</td>\n",
       "      <td>1</td>\n",
       "      <td>0</td>\n",
       "      <td>0</td>\n",
       "      <td>0</td>\n",
       "      <td>0</td>\n",
       "      <td>0</td>\n",
       "      <td>0</td>\n",
       "      <td>1</td>\n",
       "    </tr>\n",
       "    <tr>\n",
       "      <th>207258</th>\n",
       "      <td>0</td>\n",
       "      <td>0</td>\n",
       "      <td>2.827369</td>\n",
       "      <td>0.22</td>\n",
       "      <td>10</td>\n",
       "      <td>0.192</td>\n",
       "      <td>0.239</td>\n",
       "      <td>0</td>\n",
       "      <td>0</td>\n",
       "      <td>0</td>\n",
       "      <td>1</td>\n",
       "      <td>0</td>\n",
       "      <td>0</td>\n",
       "      <td>0</td>\n",
       "      <td>0</td>\n",
       "      <td>1</td>\n",
       "    </tr>\n",
       "    <tr>\n",
       "      <th>207259</th>\n",
       "      <td>0</td>\n",
       "      <td>0</td>\n",
       "      <td>2.799341</td>\n",
       "      <td>0.22</td>\n",
       "      <td>0</td>\n",
       "      <td>0.230</td>\n",
       "      <td>0.239</td>\n",
       "      <td>0</td>\n",
       "      <td>1</td>\n",
       "      <td>0</td>\n",
       "      <td>0</td>\n",
       "      <td>0</td>\n",
       "      <td>0</td>\n",
       "      <td>0</td>\n",
       "      <td>0</td>\n",
       "      <td>1</td>\n",
       "    </tr>\n",
       "  </tbody>\n",
       "</table>\n",
       "<p>207260 rows × 16 columns</p>\n",
       "</div>"
      ],
      "text/plain": [
       "        Consumer disputed?  Is SM or OA  log_transform_CNN_wc  \\\n",
       "0                        0            0              2.394452   \n",
       "1                        0            1              2.568202   \n",
       "2                        0            0              2.549003   \n",
       "3                        1            1              2.377722   \n",
       "4                        0            0              2.377722   \n",
       "...                    ...          ...                   ...   \n",
       "207255                   0            0              2.377722   \n",
       "207256                   1            0              2.377722   \n",
       "207257                   0            0              2.377722   \n",
       "207258                   0            0              2.827369   \n",
       "207259                   0            0              2.799341   \n",
       "\n",
       "        State Sensitive  Product-Non Relief  Product Frequecy  \\\n",
       "0                  0.22                   0             0.242   \n",
       "1                  0.22                   0             0.192   \n",
       "2                  0.22                   0             0.192   \n",
       "3                  0.22                   0             0.230   \n",
       "4                  0.19                   0             0.230   \n",
       "...                 ...                 ...               ...   \n",
       "207255             0.22                   0             0.189   \n",
       "207256             0.22                  18             0.230   \n",
       "207257             0.19                   0             0.224   \n",
       "207258             0.22                  10             0.192   \n",
       "207259             0.22                   0             0.230   \n",
       "\n",
       "        Method Frequency  Company response to consumer_Closed  \\\n",
       "0                  0.239                                    0   \n",
       "1                  0.239                                    0   \n",
       "2                  0.239                                    0   \n",
       "3                  0.193                                    0   \n",
       "4                  0.183                                    0   \n",
       "...                  ...                                  ...   \n",
       "207255             0.239                                    0   \n",
       "207256             0.183                                    0   \n",
       "207257             0.239                                    0   \n",
       "207258             0.239                                    0   \n",
       "207259             0.239                                    0   \n",
       "\n",
       "        Company response to consumer_Closed with explanation  \\\n",
       "0                                                       1      \n",
       "1                                                       1      \n",
       "2                                                       0      \n",
       "3                                                       1      \n",
       "4                                                       1      \n",
       "...                                                   ...      \n",
       "207255                                                  1      \n",
       "207256                                                  0      \n",
       "207257                                                  1      \n",
       "207258                                                  0      \n",
       "207259                                                  1      \n",
       "\n",
       "        Company response to consumer_Closed with monetary relief  \\\n",
       "0                                                       0          \n",
       "1                                                       0          \n",
       "2                                                       1          \n",
       "3                                                       0          \n",
       "4                                                       0          \n",
       "...                                                   ...          \n",
       "207255                                                  0          \n",
       "207256                                                  0          \n",
       "207257                                                  0          \n",
       "207258                                                  0          \n",
       "207259                                                  0          \n",
       "\n",
       "        Company response to consumer_Closed with non-monetary relief  \\\n",
       "0                                                       0              \n",
       "1                                                       0              \n",
       "2                                                       0              \n",
       "3                                                       0              \n",
       "4                                                       0              \n",
       "...                                                   ...              \n",
       "207255                                                  0              \n",
       "207256                                                  0              \n",
       "207257                                                  0              \n",
       "207258                                                  1              \n",
       "207259                                                  0              \n",
       "\n",
       "        Company response to consumer_Closed with relief  \\\n",
       "0                                                     0   \n",
       "1                                                     0   \n",
       "2                                                     0   \n",
       "3                                                     0   \n",
       "4                                                     0   \n",
       "...                                                 ...   \n",
       "207255                                                0   \n",
       "207256                                                0   \n",
       "207257                                                0   \n",
       "207258                                                0   \n",
       "207259                                                0   \n",
       "\n",
       "        Company response to consumer_Closed without relief  \\\n",
       "0                                                       0    \n",
       "1                                                       0    \n",
       "2                                                       0    \n",
       "3                                                       0    \n",
       "4                                                       0    \n",
       "...                                                   ...    \n",
       "207255                                                  0    \n",
       "207256                                                  1    \n",
       "207257                                                  0    \n",
       "207258                                                  0    \n",
       "207259                                                  0    \n",
       "\n",
       "        Company response to consumer_Untimely response  Timely response?_No  \\\n",
       "0                                                    0                    0   \n",
       "1                                                    0                    0   \n",
       "2                                                    0                    0   \n",
       "3                                                    0                    0   \n",
       "4                                                    0                    0   \n",
       "...                                                ...                  ...   \n",
       "207255                                               0                    0   \n",
       "207256                                               0                    0   \n",
       "207257                                               0                    0   \n",
       "207258                                               0                    0   \n",
       "207259                                               0                    0   \n",
       "\n",
       "        Timely response?_Yes  \n",
       "0                          1  \n",
       "1                          1  \n",
       "2                          1  \n",
       "3                          1  \n",
       "4                          1  \n",
       "...                      ...  \n",
       "207255                     1  \n",
       "207256                     1  \n",
       "207257                     1  \n",
       "207258                     1  \n",
       "207259                     1  \n",
       "\n",
       "[207260 rows x 16 columns]"
      ]
     },
     "execution_count": 26,
     "metadata": {},
     "output_type": "execute_result"
    }
   ],
   "source": [
    "## import, preprocess, and split the data\n",
    "\n",
    "df = pd.DataFrame(pd.read_csv('complaints_25Nov21.csv', engine='python'))\n",
    "    \n",
    "# Preprocessing\n",
    "df = clean(df)\n",
    "df = new_features(df)\n",
    "\n",
    "df = encode(df)\n",
    "df"
   ]
  },
  {
   "cell_type": "markdown",
   "id": "4265b20a",
   "metadata": {},
   "source": [
    "## Modelling"
   ]
  },
  {
   "cell_type": "code",
   "execution_count": 27,
   "id": "372dfdef",
   "metadata": {},
   "outputs": [],
   "source": [
    "# Define X and y\n",
    "X = df\n",
    "y = X.pop('Consumer disputed?')\n",
    "\n",
    "# Preform Split\n",
    "X_train, X_test, y_train, y_test = train_test_split(X, y, test_size=0.2)\n",
    "\n",
    "# Undersample the majority class of the target variable\n",
    "undersampler = RandomUnderSampler()\n",
    "X_train, y_train = undersampler.fit_resample(X_train, y_train)\n"
   ]
  },
  {
   "cell_type": "code",
   "execution_count": 28,
   "id": "3573ab2c",
   "metadata": {},
   "outputs": [
    {
     "data": {
      "text/plain": [
       "0.5"
      ]
     },
     "execution_count": 28,
     "metadata": {},
     "output_type": "execute_result"
    }
   ],
   "source": [
    "y_train.sum()/len(y_train) #just checking that the '1' category is exactly 50% of the training set"
   ]
  },
  {
   "cell_type": "markdown",
   "id": "ca23dbae",
   "metadata": {},
   "source": [
    "For this classification problem, I used the XGBoost ML model. I also tried SVM and Linear Discriminant Analysis models but the XGBoost performed the best. "
   ]
  },
  {
   "cell_type": "code",
   "execution_count": 29,
   "id": "d517477d",
   "metadata": {},
   "outputs": [
    {
     "name": "stdout",
     "output_type": "stream",
     "text": [
      "[07:50:38] WARNING: ../src/learner.cc:1115: Starting in XGBoost 1.3.0, the default evaluation metric used with the objective 'binary:logistic' was changed from 'error' to 'logloss'. Explicitly set eval_metric if you'd like to restore the old behavior.\n",
      "              precision    recall  f1-score   support\n",
      "\n",
      "           0       0.84      0.54      0.65     32594\n",
      "           1       0.27      0.62      0.37      8858\n",
      "\n",
      "    accuracy                           0.55     41452\n",
      "   macro avg       0.55      0.58      0.51     41452\n",
      "weighted avg       0.72      0.55      0.59     41452\n",
      "\n"
     ]
    },
    {
     "name": "stderr",
     "output_type": "stream",
     "text": [
      "/global/homes/d/dornamu/.conda/envs/myenv/lib/python3.8/site-packages/sklearn/utils/deprecation.py:87: FutureWarning: Function plot_confusion_matrix is deprecated; Function `plot_confusion_matrix` is deprecated in 1.0 and will be removed in 1.2. Use one of the class methods: ConfusionMatrixDisplay.from_predictions or ConfusionMatrixDisplay.from_estimator.\n",
      "  warnings.warn(msg, category=FutureWarning)\n"
     ]
    },
    {
     "data": {
      "image/png": "[encoded data removed]",
      "text/plain": [
       "<Figure size 432x288 with 2 Axes>"
      ]
     },
     "metadata": {
      "needs_background": "light"
     },
     "output_type": "display_data"
    }
   ],
   "source": [
    "# Fit the model\n",
    "model_xgb = XGBClassifier(use_label_encoder=False, objective= 'binary:logistic', n_estimators=100, learning_rate=0.05, n_jobs=4, max_depth = 5)\n",
    "model_xgb.fit(X_train, y_train, early_stopping_rounds=7,eval_set=[(X_test, y_test)], verbose=False)\n",
    "\n",
    "# Perform predictions, and store the results in a variable called 'pred'\n",
    "pred = model_xgb.predict(X_test)\n",
    "\n",
    "# Check the classification report and the confusion matrix\n",
    "print(classification_report(y_true = y_test, y_pred = pred))\n",
    "plot_confusion_matrix(model_xgb, X = X_test, y_true = y_test, cmap='Greys');\n",
    "\n",
    "# Create predictions.  Note that predictions give us probabilities, not classes!\n",
    "pred_prob = model_xgb.predict_proba(X_test)\n",
    "\n",
    "# We drop the probabilities for class 0, and keep just the second column\n",
    "pred_prob = pred_prob[:,1]"
   ]
  },
  {
   "cell_type": "markdown",
   "id": "4fe88a58",
   "metadata": {},
   "source": [
    "## Performance and Threshold Analysis\n",
    "\n",
    "In classification problems, especially in a business context, evaluating a model performance in terms of accuracy is not sufficient. For example, in this case, the price of false negatives (1500 USD) is much steeper than the cost of a false negative (90 USD). Thus, we want a higher recall rate (TP/TP + FN) for disputed claims, even if it means lower precision (TP/TP +FP).\n",
    "\n",
    "One way to use visualization to develop some intuition about this is to use the AUC - ROC Curve (Area under the Curve - Receiver Operating Characteristics). The higher the AUC, the better the model is at classification. The curve is plotted with True Positive Rate against the False Positive Rate. This is not the same as recall and precision, but we can follow the principle of achieving a high True Positive rate even if the False Positive Rate goes up."
   ]
  },
  {
   "cell_type": "code",
   "execution_count": 30,
   "id": "4c4a8eee",
   "metadata": {},
   "outputs": [
    {
     "data": {
      "image/png": "[encoded data removed]",
      "text/plain": [
       "<Figure size 648x576 with 1 Axes>"
      ]
     },
     "metadata": {
      "needs_background": "light"
     },
     "output_type": "display_data"
    }
   ],
   "source": [
    "metrics.roc_auc_score(y_test, pred_prob)\n",
    "\n",
    "# Source for code below: https://stackoverflow.com/questions/25009284/how-to-plot-roc-curve-in-python\n",
    "fpr, tpr, thresholds = metrics.roc_curve(y_test, pred_prob)\n",
    "roc_auc = metrics.auc(fpr, tpr)\n",
    "plt.figure(figsize = (9,8))\n",
    "plt.title('Receiver Operating Characteristic')\n",
    "plt.plot(fpr, tpr, 'b', label = 'AUC = %0.2f' % roc_auc)\n",
    "plt.legend(loc = 'lower right')\n",
    "plt.plot([0, 1], [0, 1],'r--')\n",
    "plt.xlim([0, 1])\n",
    "plt.ylim([0, 1])\n",
    "plt.ylabel('True Positive Rate')\n",
    "plt.xlabel('False Positive Rate')\n",
    "plt.show()"
   ]
  },
  {
   "cell_type": "markdown",
   "id": "042b24a4",
   "metadata": {},
   "source": [
    "With an AUC value of approx. 0.61 our model does have some skill. It is worth noting that even if there is a situation in which alot of data is available, such as this one, it does not necessarily guarantee that the data will have alot of predictive power. To give a few examples, all the Mutual Information scores for the columns in the dataset were practically 0, and the model performs better when undersampling class 0 of the target variables than when using SMOTE (synthetic minority Over-sampling) for class 1. \n",
    "\n",
    "Nevertheless, let's make this model as useful as possible in the business context. As the AUC curve is pretty smooth, indicating that there are no noteworthy tradeoffs between the true positive and false positive rate. Let's explore how changing the threshold for the target variable affects costs and potential savings. "
   ]
  },
  {
   "cell_type": "code",
   "execution_count": 31,
   "id": "ed9e477e",
   "metadata": {},
   "outputs": [],
   "source": [
    "## Define cost function to aid our threshold analysis\n",
    "\n",
    "# False Negatives\n",
    "def get_cost_fn(count):\n",
    "    return count*1500\n",
    "\n",
    "# False Positives\n",
    "def get_cost_fp(count):\n",
    "    return count*90\n",
    "\n",
    "# True Negatives\n",
    "def get_cost_tn(count):\n",
    "    return count*0\n",
    "\n",
    "# True Positives\n",
    "def get_cost_tp(count):\n",
    "    return count*-1410 #1500-90\n",
    "\n",
    "## Define function to get the costs\n",
    "def get_total_cost(cm):\n",
    "    total_cost = 0\n",
    "    \n",
    "    # Negatives\n",
    "    n = list(cm[0])\n",
    "    # Positives\n",
    "    p = list(cm[1])\n",
    "    \n",
    "    # False negatives\n",
    "    total_cost += get_cost_fn(p[0])\n",
    "    # False positives\n",
    "    total_cost += get_cost_fp(n[1])\n",
    "    # True postives\n",
    "    total_cost += get_cost_tp(p[1])\n",
    "    \n",
    "    return total_cost"
   ]
  },
  {
   "cell_type": "code",
   "execution_count": 32,
   "id": "14cee74b",
   "metadata": {},
   "outputs": [
    {
     "name": "stdout",
     "output_type": "stream",
     "text": [
      "Confusion Matrix : \n",
      " [[32594     0]\n",
      " [ 8858     0]]\n",
      "              precision    recall  f1-score   support\n",
      "\n",
      "           0       0.79      1.00      0.88     32594\n",
      "           1       0.00      0.00      0.00      8858\n",
      "\n",
      "    accuracy                           0.79     41452\n",
      "   macro avg       0.39      0.50      0.44     41452\n",
      "weighted avg       0.62      0.79      0.69     41452\n",
      "\n",
      "Total Cost = 13287000\n"
     ]
    },
    {
     "name": "stderr",
     "output_type": "stream",
     "text": [
      "/global/homes/d/dornamu/.conda/envs/myenv/lib/python3.8/site-packages/sklearn/metrics/_classification.py:1318: UndefinedMetricWarning: Precision and F-score are ill-defined and being set to 0.0 in labels with no predicted samples. Use `zero_division` parameter to control this behavior.\n",
      "  _warn_prf(average, modifier, msg_start, len(result))\n",
      "/global/homes/d/dornamu/.conda/envs/myenv/lib/python3.8/site-packages/sklearn/metrics/_classification.py:1318: UndefinedMetricWarning: Precision and F-score are ill-defined and being set to 0.0 in labels with no predicted samples. Use `zero_division` parameter to control this behavior.\n",
      "  _warn_prf(average, modifier, msg_start, len(result))\n",
      "/global/homes/d/dornamu/.conda/envs/myenv/lib/python3.8/site-packages/sklearn/metrics/_classification.py:1318: UndefinedMetricWarning: Precision and F-score are ill-defined and being set to 0.0 in labels with no predicted samples. Use `zero_division` parameter to control this behavior.\n",
      "  _warn_prf(average, modifier, msg_start, len(result))\n"
     ]
    }
   ],
   "source": [
    "## Testing Extreme Cases\n",
    "\n",
    "# Set threshold for identifying class 1\n",
    "threshold = 1\n",
    "# Create predictions.  Note that predictions give us probabilities, not classes!\n",
    "pred_prob = model_xgb.predict_proba(X_test)\n",
    "\n",
    "# We drop the probabilities for class 0, and keep just the second column\n",
    "pred_prob = pred_prob[:,1]\n",
    "\n",
    "# Convert probabilities to 1s and 0s based on threshold\n",
    "pred = (pred_prob>threshold).astype(int)\n",
    "\n",
    "# confusion matrix\n",
    "cm = confusion_matrix(y_test, pred)\n",
    "print (\"Confusion Matrix : \\n\", cm)\n",
    "\n",
    "print(classification_report(y_true = y_test, y_pred = pred))\n",
    "\n",
    "tc = get_total_cost(cm)\n",
    "print('Total Cost =',tc)"
   ]
  },
  {
   "cell_type": "markdown",
   "id": "b1cdec78",
   "metadata": {},
   "source": [
    "To emphasize how accuracy is not the best metric of measurement, accuracy is highest when everything is classified according to the majority class, namely, not disputed. Making a new policy to just add an extra step into the resolution process renders our model useless not to mention this might not be the best use of resources for the bank. More nuance needs to be taken into account when evaluating our models.\n",
    "\n",
    "We've already established that a high recall rate is important. Let's take a closer look at how the various costs and savings the ML is making at different thresholds."
   ]
  },
  {
   "cell_type": "code",
   "execution_count": 33,
   "id": "96950df3",
   "metadata": {},
   "outputs": [],
   "source": [
    "## Plot the costs for all thresholds\n",
    "\n",
    "# range() can only do integers\n",
    "thresholds = [x * 0.05 for x in range(0, 20)]\n",
    "costs = []\n",
    "fp_costs = []\n",
    "fn_loss = []\n",
    "tp_savings = []\n",
    "\n",
    "\n",
    "for t in range(len(thresholds)):\n",
    "    # Set threshold for identifying class 1\n",
    "    threshold = thresholds[t]\n",
    "    # Create predictions.  Note that predictions give us probabilities, not classes!\n",
    "    pred_prob = model_xgb.predict_proba(X_test)\n",
    "\n",
    "    # We drop the probabilities for class 0, and keep just the second column\n",
    "    pred_prob = pred_prob[:,1]\n",
    "\n",
    "    # Convert probabilities to 1s and 0s based on threshold\n",
    "    pred = (pred_prob>threshold).astype(int)\n",
    "\n",
    "    # confusion matrix\n",
    "    cm = confusion_matrix(y_test, pred)\n",
    "    \n",
    "    # Negatives\n",
    "    n = list(cm[0])\n",
    "    # Positives\n",
    "    p = list(cm[1])\n",
    "    \n",
    "    # Get how much resources was spent on false positives\n",
    "    fp = get_cost_fp(n[1])\n",
    "    # Get how much money was lost on false negatives\n",
    "    fn = get_cost_fn(p[0])\n",
    "    # Get how much money was saved on true positives\n",
    "    tp = get_cost_tp(-1*p[1])\n",
    "    \n",
    "    tc = get_total_cost(cm)\n",
    "    \n",
    "    fp_costs.append(fp) \n",
    "    fn_loss.append(fn)\n",
    "    tp_savings.append(tp)\n",
    "    \n",
    "    costs.append(tc)"
   ]
  },
  {
   "cell_type": "code",
   "execution_count": 35,
   "id": "41db930c",
   "metadata": {},
   "outputs": [
    {
     "data": {
      "text/plain": [
       "Text(0, 0.5, 'Extra Dilligence Cost')"
      ]
     },
     "execution_count": 35,
     "metadata": {},
     "output_type": "execute_result"
    },
    {
     "data": {
      "image/png": "[encoded data removed]",
      "text/plain": [
       "<Figure size 432x288 with 1 Axes>"
      ]
     },
     "metadata": {
      "needs_background": "light"
     },
     "output_type": "display_data"
    }
   ],
   "source": [
    "plt.plot(thresholds,costs)\n",
    "plt.xlabel(\"Threshold\")\n",
    "plt.ylabel(\"Extra Dilligence Cost\")"
   ]
  },
  {
   "cell_type": "markdown",
   "id": "249d1ff4",
   "metadata": {},
   "source": [
    "In the plot above the Y-axis represents the cost/savings at different thresholds on the x-axis. \n",
    "\n",
    "As it can be seen, the banks should hypothetically save the most if they set the model threshold to a low value. Nevertheless, going back to the point made previously, such a solution calls for even more resources when the point of this ML model is to help the banks use their resources efficiently.\n",
    "\n",
    "The project document did not specify the amount of resources the banks were willing to spend on \"extra diligence\" but let's help provide them provide some guidance.\n",
    "\n",
    "The above plot only took into account total costs. It is important to consider that the different kinds of classifications have different weights with True Positive Savings (1410 USD) and False Negative Costs (-1500 USD) having the strongest effect in the total cost function.\n",
    "\n",
    "Let's plot the different savings and cost to better visualize at what threshold we are getting the most for our false-positive costs aka the hypothetical \"budget.\""
   ]
  },
  {
   "cell_type": "code",
   "execution_count": 36,
   "id": "cf547a0a",
   "metadata": {},
   "outputs": [
    {
     "data": {
      "image/png": "[encoded data removed]",
      "text/plain": [
       "<Figure size 432x288 with 1 Axes>"
      ]
     },
     "metadata": {
      "needs_background": "light"
     },
     "output_type": "display_data"
    }
   ],
   "source": [
    "## Uncomment the lines above if you like to see the plot with line for a b udget\n",
    "\n",
    "# value = 0\n",
    "# budget = [value for x in range(0, 20)]\n",
    "# plot lines\n",
    "plt.plot(thresholds, fp_costs, label = \"False Positive Cost\")\n",
    "plt.plot(thresholds, fn_loss, label = \"False Negative Loss\")\n",
    "plt.plot(thresholds, tp_savings, label = \"True Positive Savings\")\n",
    "#plt.plot(thresholds, budget, label = \"Budget\")\n",
    "plt.legend()\n",
    "plt.show()"
   ]
  },
  {
   "cell_type": "markdown",
   "id": "375a501b",
   "metadata": {},
   "source": [
    "<br>_True Positive Savings_ reflects the amount of money saved from correctly identifying a future disputed claim and then performing the extra dilligence steps to resolve it in a way that will not result in a dispute = 1410(1500-90) USD * true positives.</br>\n",
    "<br>_False Negative Loss_ refers to the money lost from classifying future disputed claims as claims that will not be disputed = 1500 USD * false negatives .</br>\n",
    "<br>_False Positive Cost_ is the cost from classifying a non-future disputed claim as a complaint that will be disputed and then performing the exta dilligence step on it = 90 USD * false positives.</br>\n",
    "\n",
    "**Observations:**\n",
    "* The higher the threshold, the lower the amount saved from using this model.\n",
    "* The cost of incorrectly identifying false negatives almost mirrors true positive savings, which makes sense as 1410 USD (TP savings) is close to 1500 USD (FN loss)\n",
    "* The cost of false positives remains relatively stable, and even decreases as the threshold increases, which makes sense because there are fewer false positives to catch.\n",
    "\n",
    "The goal should be to maximize true positive savings while minimizing False-positive costs. Thus, You would likely want the threshold before the true positive savings takes a nose dive, which looks like it is somewhere between 0.4 and 0.5"
   ]
  },
  {
   "cell_type": "code",
   "execution_count": 38,
   "id": "1e0c65f9",
   "metadata": {},
   "outputs": [],
   "source": [
    "# Plot the costs and savings for between 0.4-0.5\n",
    "thresholds = [0.4,0.41,0.42,0.43,0.44,0.45,0.46,0.47,0.48,0.49,0.5]\n",
    "costs = []\n",
    "fp_costs = []\n",
    "fn_loss = []\n",
    "tp_savings = []\n",
    "\n",
    "\n",
    "for t in range(len(thresholds)):\n",
    "    # Set threshold for identifying class 1\n",
    "    threshold = thresholds[t]\n",
    "    # Create predictions.  Note that predictions give us probabilities, not classes!\n",
    "    pred_prob = model_xgb.predict_proba(X_test)\n",
    "\n",
    "    # We drop the probabilities for class 0, and keep just the second column\n",
    "    pred_prob = pred_prob[:,1]\n",
    "\n",
    "    # Convert probabilities to 1s and 0s based on threshold\n",
    "    pred = (pred_prob>threshold).astype(int)\n",
    "\n",
    "    # confusion matrix\n",
    "    cm = confusion_matrix(y_test, pred)\n",
    "    \n",
    "    # Negatives\n",
    "    n = list(cm[0])\n",
    "    # Positives\n",
    "    p = list(cm[1])\n",
    "    \n",
    "    # Get how much resources was spent on false positives\n",
    "    fp = get_cost_fp(n[1])\n",
    "    # Get how much money was lost on false negatives\n",
    "    fn = get_cost_fn(p[0])\n",
    "    # Get how much money was saved on true positives\n",
    "    tp = get_cost_tp(-1*p[1])\n",
    "    \n",
    "    tc = get_total_cost(cm)\n",
    "    \n",
    "    fp_costs.append(fp) \n",
    "    fn_loss.append(fn)\n",
    "    tp_savings.append(tp)\n",
    "    \n",
    "    costs.append(tc)\n"
   ]
  },
  {
   "cell_type": "code",
   "execution_count": 39,
   "id": "f28d1456",
   "metadata": {},
   "outputs": [
    {
     "data": {
      "image/png": "[encoded data removed]",
      "text/plain": [
       "<Figure size 432x288 with 1 Axes>"
      ]
     },
     "metadata": {
      "needs_background": "light"
     },
     "output_type": "display_data"
    }
   ],
   "source": [
    "#budget = [1000000 for x in range(0, 11)]\n",
    "# plot lines\n",
    "plt.plot(thresholds, fp_costs, label = \"False Positive Cost\")\n",
    "plt.plot(thresholds, fn_loss, label = \"False Negative Loss\")\n",
    "plt.plot(thresholds, tp_savings, label = \"True Positive Savings\")\n",
    "#plt.plot(thresholds, budget, label = \"Budget\")\n",
    "plt.legend()\n",
    "plt.show()"
   ]
  },
  {
   "cell_type": "markdown",
   "id": "6a518f63",
   "metadata": {},
   "source": [
    "It looks like the best threshold value is around 0.46 - let's confirm ..."
   ]
  },
  {
   "cell_type": "code",
   "execution_count": 40,
   "id": "72c1c14c",
   "metadata": {},
   "outputs": [
    {
     "data": {
      "text/plain": [
       "{0.4: 11419590,\n",
       " 0.41: 11378700,\n",
       " 0.42: 11319480,\n",
       " 0.43: 11115030,\n",
       " 0.44: 11086830,\n",
       " 0.45: 10923270,\n",
       " 0.46: 10782270,\n",
       " 0.47: 10240830,\n",
       " 0.48: 9930630,\n",
       " 0.49: 8055330,\n",
       " 0.5: 7733850}"
      ]
     },
     "execution_count": 40,
     "metadata": {},
     "output_type": "execute_result"
    }
   ],
   "source": [
    "threshold_dict_tp = dict(zip(thresholds, tp_savings))\n",
    "threshold_dict_tp"
   ]
  },
  {
   "cell_type": "code",
   "execution_count": 41,
   "id": "5412b1c2",
   "metadata": {},
   "outputs": [
    {
     "data": {
      "text/plain": [
       "{0.4: 2354760,\n",
       " 0.41: 2345760,\n",
       " 0.42: 2320740,\n",
       " 0.43: 2261430,\n",
       " 0.44: 2253060,\n",
       " 0.45: 2201940,\n",
       " 0.46: 2155140,\n",
       " 0.47: 2016360,\n",
       " 0.48: 1934550,\n",
       " 0.49: 1436400,\n",
       " 0.5: 1364040}"
      ]
     },
     "execution_count": 41,
     "metadata": {},
     "output_type": "execute_result"
    }
   ],
   "source": [
    "threshold_dict_fp = dict(zip(thresholds, fp_costs))\n",
    "threshold_dict_fp"
   ]
  },
  {
   "cell_type": "code",
   "execution_count": 50,
   "id": "02223f67",
   "metadata": {},
   "outputs": [
    {
     "name": "stdout",
     "output_type": "stream",
     "text": [
      "Confusion Matrix : \n",
      " [[ 8648 23946]\n",
      " [ 1211  7647]]\n",
      "              precision    recall  f1-score   support\n",
      "\n",
      "           0       0.88      0.27      0.41     32594\n",
      "           1       0.24      0.86      0.38      8858\n",
      "\n",
      "    accuracy                           0.39     41452\n",
      "   macro avg       0.56      0.56      0.39     41452\n",
      "weighted avg       0.74      0.39      0.40     41452\n",
      "\n",
      "True Positive Savings = 10782270\n",
      "False Positive Costs = 2155140\n"
     ]
    }
   ],
   "source": [
    "# Set threshold for identifying class 1\n",
    "threshold = 0.46\n",
    "# Create predictions.  Note that predictions give us probabilities, not classes!\n",
    "pred_prob = model_xgb.predict_proba(X_test)\n",
    "\n",
    "# We drop the probabilities for class 0, and keep just the second column\n",
    "pred_prob = pred_prob[:,1]\n",
    "\n",
    "# Convert probabilities to 1s and 0s based on threshold\n",
    "pred = (pred_prob>threshold).astype(int)\n",
    "\n",
    "# confusion matrix\n",
    "cm = confusion_matrix(y_test, pred)\n",
    "print (\"Confusion Matrix : \\n\", cm)\n",
    "\n",
    "print(classification_report(y_true = y_test, y_pred = pred))\n",
    "\n",
    "# Negatives\n",
    "n = list(cm[0])\n",
    "# Positives\n",
    "p = list(cm[1])\n",
    "    \n",
    "# Get how much resources was spent on false positives\n",
    "fp = get_cost_fp(n[1])\n",
    "# Get how much money was saved on true positives\n",
    "tp = get_cost_tp(-1*p[1])\n",
    "\n",
    "print('True Positive Savings =',tp)\n",
    "print('False Positive Costs =',fp)"
   ]
  },
  {
   "cell_type": "markdown",
   "id": "0cb8b0fb",
   "metadata": {},
   "source": [
    "In conclusion, the model is the most useful to banks when the threshold value is approx. 0.46. Moreover, the banks can use this model as a starting point to in budgeting for how much resource needs to be pu aside for the \"extra dilligence\" step by looking at the false positive cost.\n",
    "\n",
    "Let me know your thoughts and feedback! I would love to learn from you :)"
   ]
  }
 ],
 "metadata": {
  "@webio": {
   "lastCommId": null,
   "lastKernelId": null
  },
  "kernelspec": {
   "display_name": "Python 3 (ipykernel)",
   "language": "python",
   "name": "python3"
  },
  "language_info": {
   "codemirror_mode": {
    "name": "ipython",
    "version": 3
   },
   "file_extension": ".py",
   "mimetype": "text/x-python",
   "name": "python",
   "nbconvert_exporter": "python",
   "pygments_lexer": "ipython3",
   "version": "3.8.12"
  }
 },
 "nbformat": 4,
 "nbformat_minor": 5
}
